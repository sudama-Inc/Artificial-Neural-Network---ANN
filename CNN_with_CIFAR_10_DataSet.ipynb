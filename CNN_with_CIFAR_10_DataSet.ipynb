{
  "nbformat": 4,
  "nbformat_minor": 0,
  "metadata": {
    "colab": {
      "name": "CNN with CIFAR-10 DataSet.ipynb",
      "provenance": [],
      "authorship_tag": "ABX9TyN7b/5BxtJd7Gs8jO21EK7p",
      "include_colab_link": true
    },
    "kernelspec": {
      "name": "python3",
      "display_name": "Python 3"
    },
    "language_info": {
      "name": "python"
    },
    "accelerator": "GPU"
  },
  "cells": [
    {
      "cell_type": "markdown",
      "metadata": {
        "id": "view-in-github",
        "colab_type": "text"
      },
      "source": [
        "<a href=\"https://colab.research.google.com/github/sudama-Inc/Artificial-Neural-Network---ANN/blob/main/CNN_with_CIFAR_10_DataSet.ipynb\" target=\"_parent\"><img src=\"https://colab.research.google.com/assets/colab-badge.svg\" alt=\"Open In Colab\"/></a>"
      ]
    },
    {
      "cell_type": "code",
      "execution_count": 1,
      "metadata": {
        "id": "JGJ4rb0oFOe5",
        "colab": {
          "base_uri": "https://localhost:8080/"
        },
        "outputId": "3b19e185-4223-4807-a11f-fcb9e4dba023"
      },
      "outputs": [
        {
          "output_type": "stream",
          "name": "stdout",
          "text": [
            "Found GPU at: /device:GPU:0\n"
          ]
        }
      ],
      "source": [
        "import tensorflow as tf\n",
        "device_name = tf.test.gpu_device_name()\n",
        "if device_name != '/device:GPU:0':\n",
        "  raise SystemError('GPU device not found')\n",
        "print('Found GPU at: {}'.format(device_name))"
      ]
    },
    {
      "cell_type": "code",
      "source": [
        "import numpy as np\n",
        "import matplotlib.pyplot as plt\n",
        "%matplotlib inline\n",
        "from __future__ import print_function\n",
        "import keras\n",
        "from keras.models import Sequential\n",
        "from tensorflow.keras.utils import to_categorical\n",
        "from keras.layers import Dense, Conv2D, MaxPooling2D, Dropout, Flatten"
      ],
      "metadata": {
        "id": "WjUyWVCTXllT"
      },
      "execution_count": 8,
      "outputs": []
    },
    {
      "cell_type": "markdown",
      "source": [
        "**Then load the dataset and split it into train and test sets.**"
      ],
      "metadata": {
        "id": "jNkXfTfUYqYQ"
      }
    },
    {
      "cell_type": "code",
      "source": [
        "from keras.datasets import cifar10\n",
        "(train_images, train_labels), (test_images, test_labels) = cifar10.load_data()"
      ],
      "metadata": {
        "colab": {
          "base_uri": "https://localhost:8080/"
        },
        "id": "frHQlytQX1BR",
        "outputId": "2182f00e-1f07-47f1-e76b-c2b682d8361d"
      },
      "execution_count": 9,
      "outputs": [
        {
          "output_type": "stream",
          "name": "stdout",
          "text": [
            "Downloading data from https://www.cs.toronto.edu/~kriz/cifar-10-python.tar.gz\n",
            "170500096/170498071 [==============================] - 3s 0us/step\n",
            "170508288/170498071 [==============================] - 3s 0us/step\n"
          ]
        }
      ]
    },
    {
      "cell_type": "code",
      "source": [
        "print('Training data shape : ', train_images.shape, train_labels.shape)\n",
        "\n",
        "print('Testing data shape : ', test_images.shape, test_labels.shape)\n",
        "\n",
        "# Find the unique numbers from the train labels\n",
        "classes = np.unique(train_labels)\n",
        "nClasses = len(classes)\n",
        "print('Total number of outputs : ', nClasses)\n",
        "print('Output classes : ', classes)\n",
        "\n",
        "plt.figure(figsize=[4,2])\n",
        "\n",
        "# Display the first image in training data\n",
        "plt.subplot(121)\n",
        "plt.imshow(train_images[0,:,:], cmap='gray')\n",
        "plt.title(\"Ground Truth : {}\".format(train_labels[0]))\n",
        "\n",
        "# Display the first image in testing data\n",
        "plt.subplot(122)\n",
        "plt.imshow(test_images[0,:,:], cmap='gray')\n",
        "plt.title(\"Ground Truth : {}\".format(test_labels[0]))"
      ],
      "metadata": {
        "colab": {
          "base_uri": "https://localhost:8080/",
          "height": 252
        },
        "id": "be-n_zn1YybY",
        "outputId": "67e87d41-7239-4f75-ca78-a7d20a1668e9"
      },
      "execution_count": 10,
      "outputs": [
        {
          "output_type": "stream",
          "name": "stdout",
          "text": [
            "Training data shape :  (50000, 32, 32, 3) (50000, 1)\n",
            "Testing data shape :  (10000, 32, 32, 3) (10000, 1)\n",
            "Total number of outputs :  10\n",
            "Output classes :  [0 1 2 3 4 5 6 7 8 9]\n"
          ]
        },
        {
          "output_type": "execute_result",
          "data": {
            "text/plain": [
              "Text(0.5, 1.0, 'Ground Truth : [3]')"
            ]
          },
          "metadata": {},
          "execution_count": 10
        },
        {
          "output_type": "display_data",
          "data": {
            "text/plain": [
              "<Figure size 288x144 with 2 Axes>"
            ],
            "image/png": "[encoded data removed]"
          },
          "metadata": {
            "needs_background": "light"
          }
        }
      ]
    },
    {
      "cell_type": "markdown",
      "source": [
        "*   Find the shape of input image then reshape it into input format for training and testing sets. \n",
        "*   After that change all datatypes into floats.\n",
        "\n"
      ],
      "metadata": {
        "id": "XUAVg0_JY-CY"
      }
    },
    {
      "cell_type": "code",
      "source": [
        "nRows,nCols,nDims = train_images.shape[1:]\n",
        "train_data = train_images.reshape(train_images.shape[0], nRows, nCols, nDims)\n",
        "test_data = test_images.reshape(test_images.shape[0], nRows, nCols, nDims)\n",
        "input_shape = (nRows, nCols, nDims)\n",
        "\n",
        "train_data = train_data.astype('float32')\n",
        "test_data = test_data.astype('float32')"
      ],
      "metadata": {
        "id": "BT65_Jg7Y2Ni"
      },
      "execution_count": 11,
      "outputs": []
    },
    {
      "cell_type": "markdown",
      "source": [
        "**Normalize the data between 0–1 by dividing train data and test data with 255 then convert all labels into one-hot vector with to_catagorical() function.**"
      ],
      "metadata": {
        "id": "Y46Mr1EAZQo8"
      }
    },
    {
      "cell_type": "code",
      "source": [
        "train_data /= 255\n",
        "test_data /= 255\n",
        "\n",
        "train_labels_one_hot = to_categorical(train_labels)\n",
        "test_labels_one_hot = to_categorical(test_labels)"
      ],
      "metadata": {
        "id": "XzUtHXJ7ZMos"
      },
      "execution_count": 12,
      "outputs": []
    },
    {
      "cell_type": "markdown",
      "source": [
        "*   Display the change for category label using one-hot encoding.\n",
        "\n"
      ],
      "metadata": {
        "id": "SUqkhHJiZaW4"
      }
    },
    {
      "cell_type": "code",
      "source": [
        "\n",
        "print('Original label 0 : ', train_labels[0])\n",
        "print('After conversion to categorical ( one-hot ) : ', train_labels_one_hot[0])"
      ],
      "metadata": {
        "colab": {
          "base_uri": "https://localhost:8080/"
        },
        "id": "7r3o9pVSZWmJ",
        "outputId": "0374a764-2de4-477f-cb3e-377e48f68e0f"
      },
      "execution_count": 13,
      "outputs": [
        {
          "output_type": "stream",
          "name": "stdout",
          "text": [
            "Original label 0 :  [6]\n",
            "After conversion to categorical ( one-hot ) :  [0. 0. 0. 0. 0. 0. 1. 0. 0. 0.]\n"
          ]
        }
      ]
    },
    {
      "cell_type": "markdown",
      "source": [
        "*   Now create a model. We will add up Convo layers followed by pooling layers. Then we will connect Dense(FC) layer to predict the classes. \n",
        "*    Input data fed to first Convo layer, output of that Convo layer acts as input for next Convo layer and so on.\n",
        "*    Finally data is fed to FC layer which try to predict the correct labels."
      ],
      "metadata": {
        "id": "-wyRoWuVZlkY"
      }
    },
    {
      "cell_type": "code",
      "source": [
        "def createModel():\n",
        "    model = Sequential()\n",
        "    # The first two layers with 32 filters of window size 3x3\n",
        "    model.add(Conv2D(32, (3, 3), padding='same', activation='relu', input_shape=input_shape))\n",
        "    model.add(Conv2D(32, (3, 3), activation='relu'))\n",
        "    model.add(MaxPooling2D(pool_size=(2, 2)))\n",
        "    model.add(Dropout(0.25))\n",
        "\n",
        "    model.add(Conv2D(64, (3, 3), padding='same', activation='relu'))\n",
        "    model.add(Conv2D(64, (3, 3), activation='relu'))\n",
        "    model.add(MaxPooling2D(pool_size=(2, 2)))\n",
        "    model.add(Dropout(0.25))\n",
        "\n",
        "    model.add(Conv2D(64, (3, 3), padding='same', activation='relu'))\n",
        "    model.add(Conv2D(64, (3, 3), activation='relu'))\n",
        "    model.add(MaxPooling2D(pool_size=(2, 2)))\n",
        "    model.add(Dropout(0.25))\n",
        "\n",
        "    model.add(Flatten())\n",
        "    model.add(Dense(512, activation='relu'))\n",
        "    model.add(Dropout(0.5))\n",
        "    model.add(Dense(nClasses, activation='softmax'))\n",
        "    \n",
        "    return model"
      ],
      "metadata": {
        "id": "zrk6EO3EZZvI"
      },
      "execution_count": 14,
      "outputs": []
    },
    {
      "cell_type": "markdown",
      "source": [
        "Initialize all parameters and compile our model with rmsprops optimizer. There are many optimizers for example adam, SGD, GradientDescent, Adagrad, Adadelta and Adamax ,feel free to experiment with it. Here batch is 256 with 50 epochs."
      ],
      "metadata": {
        "id": "RY0NExZbZ-Qb"
      }
    },
    {
      "cell_type": "code",
      "source": [
        "model1 = createModel()\n",
        "batch_size = 256\n",
        "epochs = 50\n",
        "model1.compile(optimizer='rmsprop', loss='categorical_crossentropy', metrics=['accuracy'])"
      ],
      "metadata": {
        "id": "kFrocLjdZ5pP"
      },
      "execution_count": 15,
      "outputs": []
    },
    {
      "cell_type": "code",
      "source": [
        "model1.summary()"
      ],
      "metadata": {
        "colab": {
          "base_uri": "https://localhost:8080/"
        },
        "id": "IKWzxwuhaDsj",
        "outputId": "f024bec9-3b72-458c-b54c-2392cb8aa3af"
      },
      "execution_count": 16,
      "outputs": [
        {
          "output_type": "stream",
          "name": "stdout",
          "text": [
            "Model: \"sequential\"\n",
            "_________________________________________________________________\n",
            " Layer (type)                Output Shape              Param #   \n",
            "=================================================================\n",
            " conv2d (Conv2D)             (None, 32, 32, 32)        896       \n",
            "                                                                 \n",
            " conv2d_1 (Conv2D)           (None, 30, 30, 32)        9248      \n",
            "                                                                 \n",
            " max_pooling2d (MaxPooling2D  (None, 15, 15, 32)       0         \n",
            " )                                                               \n",
            "                                                                 \n",
            " dropout (Dropout)           (None, 15, 15, 32)        0         \n",
            "                                                                 \n",
            " conv2d_2 (Conv2D)           (None, 15, 15, 64)        18496     \n",
            "                                                                 \n",
            " conv2d_3 (Conv2D)           (None, 13, 13, 64)        36928     \n",
            "                                                                 \n",
            " max_pooling2d_1 (MaxPooling  (None, 6, 6, 64)         0         \n",
            " 2D)                                                             \n",
            "                                                                 \n",
            " dropout_1 (Dropout)         (None, 6, 6, 64)          0         \n",
            "                                                                 \n",
            " conv2d_4 (Conv2D)           (None, 6, 6, 64)          36928     \n",
            "                                                                 \n",
            " conv2d_5 (Conv2D)           (None, 4, 4, 64)          36928     \n",
            "                                                                 \n",
            " max_pooling2d_2 (MaxPooling  (None, 2, 2, 64)         0         \n",
            " 2D)                                                             \n",
            "                                                                 \n",
            " dropout_2 (Dropout)         (None, 2, 2, 64)          0         \n",
            "                                                                 \n",
            " flatten (Flatten)           (None, 256)               0         \n",
            "                                                                 \n",
            " dense (Dense)               (None, 512)               131584    \n",
            "                                                                 \n",
            " dropout_3 (Dropout)         (None, 512)               0         \n",
            "                                                                 \n",
            " dense_1 (Dense)             (None, 10)                5130      \n",
            "                                                                 \n",
            "=================================================================\n",
            "Total params: 276,138\n",
            "Trainable params: 276,138\n",
            "Non-trainable params: 0\n",
            "_________________________________________________________________\n"
          ]
        }
      ]
    },
    {
      "cell_type": "markdown",
      "source": [
        "**After compiling our model, we will train our model by fit() method, then evaluate it.**"
      ],
      "metadata": {
        "id": "FfGkBe7laLEY"
      }
    },
    {
      "cell_type": "code",
      "source": [
        "history = model1.fit(train_data, train_labels_one_hot, batch_size=batch_size, epochs=epochs, verbose=1, \n",
        "                   validation_data=(test_data, test_labels_one_hot))\n",
        "model1.evaluate(test_data, test_labels_one_hot)"
      ],
      "metadata": {
        "colab": {
          "base_uri": "https://localhost:8080/"
        },
        "id": "JjBCz5lAaGfX",
        "outputId": "ea8db646-c4c6-4549-ed5a-769834d2149e"
      },
      "execution_count": 17,
      "outputs": [
        {
          "output_type": "stream",
          "name": "stdout",
          "text": [
            "Epoch 1/50\n",
            "196/196 [==============================] - 15s 24ms/step - loss: 2.0454 - accuracy: 0.2452 - val_loss: 1.7010 - val_accuracy: 0.3859\n",
            "Epoch 2/50\n",
            "196/196 [==============================] - 4s 21ms/step - loss: 1.6940 - accuracy: 0.3857 - val_loss: 1.6334 - val_accuracy: 0.4232\n",
            "Epoch 3/50\n",
            "196/196 [==============================] - 4s 21ms/step - loss: 1.5188 - accuracy: 0.4500 - val_loss: 1.6008 - val_accuracy: 0.4107\n",
            "Epoch 4/50\n",
            "196/196 [==============================] - 4s 22ms/step - loss: 1.3926 - accuracy: 0.5018 - val_loss: 1.2873 - val_accuracy: 0.5249\n",
            "Epoch 5/50\n",
            "196/196 [==============================] - 4s 21ms/step - loss: 1.2931 - accuracy: 0.5374 - val_loss: 1.2782 - val_accuracy: 0.5409\n",
            "Epoch 6/50\n",
            "196/196 [==============================] - 4s 21ms/step - loss: 1.2117 - accuracy: 0.5686 - val_loss: 1.1472 - val_accuracy: 0.5918\n",
            "Epoch 7/50\n",
            "196/196 [==============================] - 4s 21ms/step - loss: 1.1420 - accuracy: 0.5935 - val_loss: 1.0266 - val_accuracy: 0.6313\n",
            "Epoch 8/50\n",
            "196/196 [==============================] - 4s 21ms/step - loss: 1.0827 - accuracy: 0.6166 - val_loss: 1.0686 - val_accuracy: 0.6233\n",
            "Epoch 9/50\n",
            "196/196 [==============================] - 4s 21ms/step - loss: 1.0248 - accuracy: 0.6369 - val_loss: 1.1412 - val_accuracy: 0.6128\n",
            "Epoch 10/50\n",
            "196/196 [==============================] - 4s 21ms/step - loss: 0.9767 - accuracy: 0.6562 - val_loss: 0.9299 - val_accuracy: 0.6688\n",
            "Epoch 11/50\n",
            "196/196 [==============================] - 4s 21ms/step - loss: 0.9332 - accuracy: 0.6704 - val_loss: 1.0157 - val_accuracy: 0.6467\n",
            "Epoch 12/50\n",
            "196/196 [==============================] - 4s 21ms/step - loss: 0.8946 - accuracy: 0.6849 - val_loss: 0.8517 - val_accuracy: 0.6991\n",
            "Epoch 13/50\n",
            "196/196 [==============================] - 4s 21ms/step - loss: 0.8575 - accuracy: 0.6989 - val_loss: 0.8316 - val_accuracy: 0.7107\n",
            "Epoch 14/50\n",
            "196/196 [==============================] - 4s 22ms/step - loss: 0.8239 - accuracy: 0.7110 - val_loss: 0.9020 - val_accuracy: 0.6895\n",
            "Epoch 15/50\n",
            "196/196 [==============================] - 4s 22ms/step - loss: 0.7907 - accuracy: 0.7228 - val_loss: 0.9171 - val_accuracy: 0.6864\n",
            "Epoch 16/50\n",
            "196/196 [==============================] - 4s 21ms/step - loss: 0.7664 - accuracy: 0.7293 - val_loss: 0.9920 - val_accuracy: 0.6822\n",
            "Epoch 17/50\n",
            "196/196 [==============================] - 4s 21ms/step - loss: 0.7476 - accuracy: 0.7404 - val_loss: 0.8153 - val_accuracy: 0.7224\n",
            "Epoch 18/50\n",
            "196/196 [==============================] - 4s 23ms/step - loss: 0.7181 - accuracy: 0.7498 - val_loss: 0.7333 - val_accuracy: 0.7479\n",
            "Epoch 19/50\n",
            "196/196 [==============================] - 4s 21ms/step - loss: 0.7016 - accuracy: 0.7577 - val_loss: 0.7217 - val_accuracy: 0.7536\n",
            "Epoch 20/50\n",
            "196/196 [==============================] - 4s 23ms/step - loss: 0.6834 - accuracy: 0.7636 - val_loss: 0.7215 - val_accuracy: 0.7508\n",
            "Epoch 21/50\n",
            "196/196 [==============================] - 4s 21ms/step - loss: 0.6639 - accuracy: 0.7695 - val_loss: 0.7394 - val_accuracy: 0.7498\n",
            "Epoch 22/50\n",
            "196/196 [==============================] - 4s 21ms/step - loss: 0.6519 - accuracy: 0.7749 - val_loss: 0.7432 - val_accuracy: 0.7493\n",
            "Epoch 23/50\n",
            "196/196 [==============================] - 4s 21ms/step - loss: 0.6398 - accuracy: 0.7798 - val_loss: 0.6596 - val_accuracy: 0.7736\n",
            "Epoch 24/50\n",
            "196/196 [==============================] - 4s 21ms/step - loss: 0.6206 - accuracy: 0.7848 - val_loss: 0.8446 - val_accuracy: 0.7260\n",
            "Epoch 25/50\n",
            "196/196 [==============================] - 4s 21ms/step - loss: 0.6149 - accuracy: 0.7867 - val_loss: 0.7092 - val_accuracy: 0.7633\n",
            "Epoch 26/50\n",
            "196/196 [==============================] - 4s 21ms/step - loss: 0.6036 - accuracy: 0.7910 - val_loss: 0.7462 - val_accuracy: 0.7491\n",
            "Epoch 27/50\n",
            "196/196 [==============================] - 4s 22ms/step - loss: 0.5935 - accuracy: 0.7941 - val_loss: 0.6833 - val_accuracy: 0.7727\n",
            "Epoch 28/50\n",
            "196/196 [==============================] - 4s 23ms/step - loss: 0.5827 - accuracy: 0.7967 - val_loss: 0.7740 - val_accuracy: 0.7562\n",
            "Epoch 29/50\n",
            "196/196 [==============================] - 5s 26ms/step - loss: 0.5766 - accuracy: 0.8016 - val_loss: 0.6600 - val_accuracy: 0.7783\n",
            "Epoch 30/50\n",
            "196/196 [==============================] - 4s 21ms/step - loss: 0.5676 - accuracy: 0.8029 - val_loss: 0.6825 - val_accuracy: 0.7813\n",
            "Epoch 31/50\n",
            "196/196 [==============================] - 5s 23ms/step - loss: 0.5598 - accuracy: 0.8049 - val_loss: 0.6903 - val_accuracy: 0.7765\n",
            "Epoch 32/50\n",
            "196/196 [==============================] - 4s 21ms/step - loss: 0.5500 - accuracy: 0.8083 - val_loss: 0.7279 - val_accuracy: 0.7562\n",
            "Epoch 33/50\n",
            "196/196 [==============================] - 4s 21ms/step - loss: 0.5500 - accuracy: 0.8094 - val_loss: 0.7186 - val_accuracy: 0.7666\n",
            "Epoch 34/50\n",
            "196/196 [==============================] - 4s 23ms/step - loss: 0.5391 - accuracy: 0.8135 - val_loss: 0.7769 - val_accuracy: 0.7510\n",
            "Epoch 35/50\n",
            "196/196 [==============================] - 4s 21ms/step - loss: 0.5342 - accuracy: 0.8145 - val_loss: 0.6488 - val_accuracy: 0.7941\n",
            "Epoch 36/50\n",
            "196/196 [==============================] - 4s 23ms/step - loss: 0.5234 - accuracy: 0.8183 - val_loss: 0.6165 - val_accuracy: 0.7993\n",
            "Epoch 37/50\n",
            "196/196 [==============================] - 4s 21ms/step - loss: 0.5208 - accuracy: 0.8202 - val_loss: 0.6284 - val_accuracy: 0.7988\n",
            "Epoch 38/50\n",
            "196/196 [==============================] - 5s 23ms/step - loss: 0.5186 - accuracy: 0.8197 - val_loss: 0.7064 - val_accuracy: 0.7786\n",
            "Epoch 39/50\n",
            "196/196 [==============================] - 4s 23ms/step - loss: 0.5114 - accuracy: 0.8227 - val_loss: 0.8690 - val_accuracy: 0.7375\n",
            "Epoch 40/50\n",
            "196/196 [==============================] - 4s 21ms/step - loss: 0.5065 - accuracy: 0.8255 - val_loss: 0.6209 - val_accuracy: 0.7970\n",
            "Epoch 41/50\n",
            "196/196 [==============================] - 4s 21ms/step - loss: 0.5009 - accuracy: 0.8263 - val_loss: 0.6866 - val_accuracy: 0.7755\n",
            "Epoch 42/50\n",
            "196/196 [==============================] - 4s 21ms/step - loss: 0.5018 - accuracy: 0.8265 - val_loss: 0.6420 - val_accuracy: 0.8010\n",
            "Epoch 43/50\n",
            "196/196 [==============================] - 4s 21ms/step - loss: 0.4949 - accuracy: 0.8299 - val_loss: 0.6957 - val_accuracy: 0.7814\n",
            "Epoch 44/50\n",
            "196/196 [==============================] - 4s 23ms/step - loss: 0.4980 - accuracy: 0.8274 - val_loss: 0.6024 - val_accuracy: 0.8062\n",
            "Epoch 45/50\n",
            "196/196 [==============================] - 4s 23ms/step - loss: 0.4931 - accuracy: 0.8296 - val_loss: 0.7291 - val_accuracy: 0.7803\n",
            "Epoch 46/50\n",
            "196/196 [==============================] - 4s 21ms/step - loss: 0.4925 - accuracy: 0.8300 - val_loss: 0.6109 - val_accuracy: 0.8067\n",
            "Epoch 47/50\n",
            "196/196 [==============================] - 4s 23ms/step - loss: 0.4825 - accuracy: 0.8324 - val_loss: 0.6271 - val_accuracy: 0.8013\n",
            "Epoch 48/50\n",
            "196/196 [==============================] - 4s 21ms/step - loss: 0.4768 - accuracy: 0.8363 - val_loss: 0.6785 - val_accuracy: 0.7921\n",
            "Epoch 49/50\n",
            "196/196 [==============================] - 4s 23ms/step - loss: 0.4777 - accuracy: 0.8357 - val_loss: 0.6214 - val_accuracy: 0.8005\n",
            "Epoch 50/50\n",
            "196/196 [==============================] - 4s 21ms/step - loss: 0.4783 - accuracy: 0.8352 - val_loss: 0.6310 - val_accuracy: 0.8014\n",
            "313/313 [==============================] - 1s 3ms/step - loss: 0.6310 - accuracy: 0.8014\n"
          ]
        },
        {
          "output_type": "execute_result",
          "data": {
            "text/plain": [
              "[0.630962073802948, 0.8014000058174133]"
            ]
          },
          "metadata": {},
          "execution_count": 17
        }
      ]
    },
    {
      "cell_type": "code",
      "source": [
        "plt.figure(figsize=[8,6])\n",
        "plt.plot(history.history['loss'],'r',linewidth=3.0)\n",
        "plt.plot(history.history['val_loss'],'b',linewidth=3.0)\n",
        "plt.legend(['Training loss', 'Validation Loss'],fontsize=18)\n",
        "plt.xlabel('Epochs ',fontsize=16)\n",
        "plt.ylabel('Loss',fontsize=16)\n",
        "plt.title('Loss Curves',fontsize=16)"
      ],
      "metadata": {
        "colab": {
          "base_uri": "https://localhost:8080/",
          "height": 429
        },
        "id": "YvNCuPlxaO2A",
        "outputId": "2e2636ab-9212-4e89-bf4b-a72ce1ef8790"
      },
      "execution_count": 18,
      "outputs": [
        {
          "output_type": "execute_result",
          "data": {
            "text/plain": [
              "Text(0.5, 1.0, 'Loss Curves')"
            ]
          },
          "metadata": {},
          "execution_count": 18
        },
        {
          "output_type": "display_data",
          "data": {
            "text/plain": [
              "<Figure size 576x432 with 1 Axes>"
            ],
            "image/png": "[encoded data removed]"
          },
          "metadata": {
            "needs_background": "light"
          }
        }
      ]
    },
    {
      "cell_type": "code",
      "source": [
        "plt.figure(figsize=[8,6])\n",
        "plt.plot(history.history['accuracy'],'r',linewidth=3.0)\n",
        "plt.plot(history.history['val_accuracy'],'b',linewidth=3.0)\n",
        "plt.legend(['Training Accuracy', 'Validation Accuracy'],fontsize=18)\n",
        "plt.xlabel('Epochs ',fontsize=16)\n",
        "plt.ylabel('Accuracy',fontsize=16)\n",
        "plt.title('Accuracy Curves',fontsize=16)"
      ],
      "metadata": {
        "colab": {
          "base_uri": "https://localhost:8080/",
          "height": 429
        },
        "id": "FuPDdIb0aw5L",
        "outputId": "6880e9bd-763a-4a22-ac44-573784db8e8f"
      },
      "execution_count": 21,
      "outputs": [
        {
          "output_type": "execute_result",
          "data": {
            "text/plain": [
              "Text(0.5, 1.0, 'Accuracy Curves')"
            ]
          },
          "metadata": {},
          "execution_count": 21
        },
        {
          "output_type": "display_data",
          "data": {
            "text/plain": [
              "<Figure size 576x432 with 1 Axes>"
            ],
            "image/png": "[encoded data removed]"
          },
          "metadata": {
            "needs_background": "light"
          }
        }
      ]
    },
    {
      "cell_type": "code",
      "source": [
        ""
      ],
      "metadata": {
        "id": "HOlmptxEbHlb"
      },
      "execution_count": null,
      "outputs": []
    }
  ]
}